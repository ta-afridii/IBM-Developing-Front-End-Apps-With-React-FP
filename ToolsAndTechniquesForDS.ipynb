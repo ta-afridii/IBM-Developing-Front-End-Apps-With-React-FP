{
  "cells": [
    {
      "cell_type": "markdown",
      "metadata": {
        "id": "view-in-github",
        "colab_type": "text"
      },
      "source": [
        "<a href=\"https://colab.research.google.com/github/ta-afridii/IBM-Developing-Front-End-Apps-With-React-FP/blob/main/ToolsAndTechniquesForDS.ipynb\" target=\"_parent\"><img src=\"https://colab.research.google.com/assets/colab-badge.svg\" alt=\"Open In Colab\"/></a>"
      ]
    },
    {
      "cell_type": "markdown",
      "id": "66c03f0d-8dcc-4262-93e9-7371e1188597",
      "metadata": {
        "id": "66c03f0d-8dcc-4262-93e9-7371e1188597"
      },
      "source": [
        "# Tools and Techniques for Data Science"
      ]
    },
    {
      "cell_type": "markdown",
      "id": "897bc12d-9766-430a-b93a-1f6c7ce1cc44",
      "metadata": {
        "id": "897bc12d-9766-430a-b93a-1f6c7ce1cc44"
      },
      "source": [
        "### In this notebook, Data Science Tools and Ecosystem are summarized."
      ]
    },
    {
      "cell_type": "markdown",
      "id": "d80c938e-0358-4bc6-a65f-9d0df469aa2a",
      "metadata": {
        "id": "d80c938e-0358-4bc6-a65f-9d0df469aa2a"
      },
      "source": [
        "#### Some of the popular languages that Data Scientists use are:\n",
        "\n",
        "<ol>\n",
        "<li>Python</li>\n",
        "<li>SQL</li>\n",
        "<li>R</li>\n",
        "</ol>"
      ]
    },
    {
      "cell_type": "markdown",
      "id": "7788ee07-220f-41a2-a1ee-642fbc53235b",
      "metadata": {
        "id": "7788ee07-220f-41a2-a1ee-642fbc53235b"
      },
      "source": [
        "#### Some of the commonly used libraries used by Data Scientists include:\n",
        "\n",
        "<ol>\n",
        "<li>Pandas</li>\n",
        "<li>Matplotlib</li>\n",
        "<li>Numpy</li>\n",
        "</ol>\n"
      ]
    },
    {
      "cell_type": "markdown",
      "id": "74b87b31-8ac2-4bdd-8627-120505cd22dc",
      "metadata": {
        "id": "74b87b31-8ac2-4bdd-8627-120505cd22dc"
      },
      "source": [
        "| Data Science Tools |\n",
        "|---------------------|\n",
        "| Jupyter Notebook    |\n",
        "| RStudio             |\n",
        "| Git     |\n"
      ]
    },
    {
      "cell_type": "markdown",
      "id": "840f36da-5579-4ed0-8402-58f616001156",
      "metadata": {
        "id": "840f36da-5579-4ed0-8402-58f616001156"
      },
      "source": [
        "### Below are a few examples of evaluating arithmetic expressions in Python"
      ]
    },
    {
      "cell_type": "code",
      "execution_count": null,
      "id": "24f5161d-1970-4ef7-ae0a-348c71b2cfc6",
      "metadata": {
        "id": "24f5161d-1970-4ef7-ae0a-348c71b2cfc6",
        "outputId": "5db2397e-479d-4f75-8e8e-ab4e08850c7b"
      },
      "outputs": [
        {
          "data": {
            "text/plain": [
              "17"
            ]
          },
          "execution_count": 1,
          "metadata": {},
          "output_type": "execute_result"
        }
      ],
      "source": [
        "#This a simple arithmetic expression to mutiply then add integers\n",
        "(3*4)+5"
      ]
    },
    {
      "cell_type": "code",
      "execution_count": null,
      "id": "ccab5d7c-9b77-4703-9d0e-1b6d0f005a97",
      "metadata": {
        "id": "ccab5d7c-9b77-4703-9d0e-1b6d0f005a97",
        "outputId": "42327a84-0b38-4704-c605-08bdfc500f05"
      },
      "outputs": [
        {
          "data": {
            "text/plain": [
              "3.3333333333333335"
            ]
          },
          "execution_count": 2,
          "metadata": {},
          "output_type": "execute_result"
        }
      ],
      "source": [
        "# This will convert 200 minutes to hours by diving by 60\n",
        "200/60"
      ]
    },
    {
      "cell_type": "markdown",
      "id": "601f3ef5-adb1-485c-8a1d-17e2b26515a9",
      "metadata": {
        "id": "601f3ef5-adb1-485c-8a1d-17e2b26515a9"
      },
      "source": [
        "**Objectives:**\n",
        "- List popular languages for Data Science\n",
        "- Identify common data science libraries\n",
        "- Summarize data science tools\n",
        "- Demonstrate basic arithmetic operations in Python\n"
      ]
    },
    {
      "cell_type": "markdown",
      "id": "1870ac98-a560-4dd9-ae24-313a1f3d45d8",
      "metadata": {
        "id": "1870ac98-a560-4dd9-ae24-313a1f3d45d8"
      },
      "source": [
        "## Author\n",
        "A Afridi\n"
      ]
    },
    {
      "cell_type": "code",
      "execution_count": null,
      "id": "6d4c2868-562a-4989-adac-9cd5927ec274",
      "metadata": {
        "id": "6d4c2868-562a-4989-adac-9cd5927ec274"
      },
      "outputs": [],
      "source": []
    }
  ],
  "metadata": {
    "kernelspec": {
      "display_name": "Python 3 (ipykernel)",
      "language": "python",
      "name": "python3"
    },
    "language_info": {
      "codemirror_mode": {
        "name": "ipython",
        "version": 3
      },
      "file_extension": ".py",
      "mimetype": "text/x-python",
      "name": "python",
      "nbconvert_exporter": "python",
      "pygments_lexer": "ipython3",
      "version": "3.12.2"
    },
    "colab": {
      "provenance": [],
      "include_colab_link": true
    }
  },
  "nbformat": 4,
  "nbformat_minor": 5
}